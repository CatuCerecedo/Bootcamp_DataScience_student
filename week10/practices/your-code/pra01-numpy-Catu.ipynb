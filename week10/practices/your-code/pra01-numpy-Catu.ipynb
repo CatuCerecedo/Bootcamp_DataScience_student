{
 "cells": [
  {
   "cell_type": "markdown",
   "metadata": {},
   "source": [
    "# Programación 201"
   ]
  },
  {
   "cell_type": "markdown",
   "metadata": {},
   "source": [
    "Librerías científicas en Python: `NumPy`\n",
    "------------------------------------------------------"
   ]
  },
  {
   "cell_type": "code",
   "execution_count": 4,
   "metadata": {},
   "outputs": [],
   "source": [
    "import numpy as np\n",
    "import random"
   ]
  },
  {
   "cell_type": "markdown",
   "metadata": {},
   "source": [
    "### Ejercicio 1\n",
    "Calculad la norma y el determinante de la siguiente matriz: ```[[1, 0], [2, -1]]```."
   ]
  },
  {
   "cell_type": "code",
   "execution_count": 8,
   "metadata": {},
   "outputs": [
    {
     "name": "stdout",
     "output_type": "stream",
     "text": [
      "La norma de la matriz m: 2.45\n",
      "El determinante de la matriz m: -1.0\n"
     ]
    }
   ],
   "source": [
    "# Respuesta\n",
    "\n",
    "# Creamos una matriz de dimensión 2x2\n",
    "m = np.array ([[1, 0], [2, -1]])\n",
    "m.shape\n",
    "\n",
    "# La norma de la matriz:\n",
    "print(f'La norma de la matriz m: {round(np.linalg.norm(m), 2)}')\n",
    "\n",
    "# El determinante de la matriz:\n",
    "print(f'El determinante de la matriz m: {round(np.linalg.det(m), 2)}')"
   ]
  },
  {
   "cell_type": "markdown",
   "metadata": {},
   "source": [
    "### Ejercicio 2 \n",
    "Evaluad las funciones arcoseno y arcocoseno en el intervalo [0,1] y con paso (resolución) de 0.1 y guardadlas en dos _arrays_."
   ]
  },
  {
   "cell_type": "code",
   "execution_count": 50,
   "metadata": {},
   "outputs": [
    {
     "name": "stdout",
     "output_type": "stream",
     "text": [
      "Resultado de el arcoseno:\n",
      "[0.         0.10016742 0.20135792 0.30469265 0.41151685 0.52359878\n",
      " 0.64350111 0.7753975  0.92729522 1.11976951]\n",
      "Resultado del arcocoseno:\n",
      "[1.57079633 1.47062891 1.36943841 1.26610367 1.15927948 1.04719755\n",
      " 0.92729522 0.79539883 0.64350111 0.45102681]\n",
      "Array arcoseno: <class 'numpy.ndarray'>\n",
      "Array arcocoseno: <class 'numpy.ndarray'>\n"
     ]
    }
   ],
   "source": [
    "# Respuesta\n",
    "\n",
    "# Si sabermos que podemos crear un array con la función np.array\n",
    "interval = np.arange(0, 1, 0.1)\n",
    "\n",
    "# de manera resumida especificamos:\n",
    "\n",
    "alg_sin = np.array(np.arcsin(interval))\n",
    "alg_cos = np.array(np.arccos(interval))\n",
    "\n",
    "# Mostramos las dos array:\n",
    "print(f'Resultado de el arcoseno:\\n{alg_sin}\\nResultado del arcocoseno:\\n{alg_cos}')\n",
    "\n",
    "# Comprobamos que se han guardado como array\n",
    "print(f'Array arcoseno: {type(alg_sin)}\\nArray arcocoseno: {type(alg_cos)}')"
   ]
  },
  {
   "cell_type": "markdown",
   "metadata": {},
   "source": [
    "### Ejercicio 3\n",
    "Generad una lista de 100 valores enteros aleatorios de 0-9. Realizad los siguientes cálculos utilizando métodos de _numpy_:\n",
    "- Media y desviación estándar de los valores de la lista\n",
    "- Valor máximo y mínimo\n",
    "- Sumad todos los valores de la lista\n",
    "- Conseguid una lista de valores únicos"
   ]
  },
  {
   "cell_type": "code",
   "execution_count": 4,
   "metadata": {},
   "outputs": [
    {
     "name": "stdout",
     "output_type": "stream",
     "text": [
      "Media: 4.42\n",
      "Desviación estandard: 2.72\n",
      "Max: 9\n",
      "Min: 0\n",
      "Suma: 442\n",
      "Valores únicos: [0, 1, 2, 3, 4, 5, 6, 7, 8, 9]\n"
     ]
    }
   ],
   "source": [
    "# Respuesta\n",
    "\n",
    "# Creamos la lista con list comprehension\n",
    "list = [random.randint(0, 9) for x in range(100)]\n",
    "\n",
    "# Convertimos a array\n",
    "list = np.array(list)\n",
    "type(list)\n",
    "\n",
    "# Calculamos\n",
    "print(f'Media: {round(np.average(list), 2)}')\n",
    "print(f'Desviación estandard: {round(np.ma.std(list), 2)}')\n",
    "print(f'Max: {round(np.ma.max(list), 2)}')\n",
    "print(f'Min: {round(np.ma.min(list), 2)}')\n",
    "print(f'Suma: {round(np.ma.sum(list), 2)}')\n",
    "print(f'Valores únicos: {np.unique(list).tolist()}')\n",
    "\n"
   ]
  },
  {
   "cell_type": "markdown",
   "metadata": {},
   "source": [
    "### Ejercicio 4\n",
    "Ordenad la matriz bidimensional ```[[5,1,7], [0,7,4], [7,23,1]]``` por filas utilizando como algoritmo de ordenación el [Merge sort](https://en.wikipedia.org/wiki/Merge_sort).\n",
    "\n",
    "**Hint:** No es necesario que implementéis el algoritmo de ordenación a mano, NumPy contiene métodos para realizar diferentes tipos de ordenación sobre diferentes estructuras de datos."
   ]
  },
  {
   "cell_type": "code",
   "execution_count": 6,
   "metadata": {},
   "outputs": [
    {
     "data": {
      "text/plain": [
       "array([[ 5,  1,  7],\n",
       "       [ 0,  7,  4],\n",
       "       [ 7, 23,  1]])"
      ]
     },
     "execution_count": 6,
     "metadata": {},
     "output_type": "execute_result"
    }
   ],
   "source": [
    "# Respuesta\n",
    "\n",
    "# Creamos la matriz\n",
    "m = np.array([[5,1,7], [0,7,4], [7,23,1]])\n",
    "m"
   ]
  },
  {
   "cell_type": "markdown",
   "metadata": {},
   "source": [
    "### Ejercicio 5\n",
    "Definid una función que dadas dos matrices, devuelva el valor absoluto de la multiplicación de los determinantes ambas, es decir, dadas A y B, nuestra función devolverá `|det(A) * det(B)|`."
   ]
  },
  {
   "cell_type": "code",
   "execution_count": 27,
   "metadata": {},
   "outputs": [
    {
     "data": {
      "text/plain": [
       "2.0000000000000004"
      ]
     },
     "execution_count": 27,
     "metadata": {},
     "output_type": "execute_result"
    }
   ],
   "source": [
    "# Respuesta\n",
    "\n",
    "def abs_mul_det (A, B):\n",
    "    '''\n",
    "    Multiplicación de los valores absolutos de los determinantes de dos matrices\n",
    "    Arg:\n",
    "        A(array): matriz\n",
    "        B(array): matriz\n",
    "    Return:\n",
    "        Float\n",
    "    '''\n",
    "    if type(A) != np.ndarray or type(B) != np.ndarray:\n",
    "        print('Transform objects to array type')\n",
    "    else:\n",
    "        return abs(np.linalg.det(A)*np.linalg.det(B))\n",
    "\n",
    "# Comprobación\n",
    "\n",
    "A = np.array([\n",
    "              [1,0],\n",
    "              [0,1]\n",
    "])\n",
    "\n",
    "B = np.array([\n",
    "              [1,2],\n",
    "              [3,4]\n",
    "])\n",
    "\n",
    "abs_mul_det(A, B)\n"
   ]
  },
  {
   "cell_type": "markdown",
   "metadata": {},
   "source": [
    "### Ejercicio 6\n",
    "Cread una matriz 10x10 que corresponda con la [matriz identidad](https://es.wikipedia.org/wiki/Matriz_identidad) usando generadores básicos de arrays. Cread una matriz identidad 10x10 (esta vez usando generadores especificos de matrices identidad) y comprobad que ambas matrices son iguales\n",
    "\n",
    "**Consideraciones**:\n",
    "- La primera matriz debe crearse usando constructores básicos de arrays, como los presentados en los Notebooks de teoría.\n",
    "* La segunda matriz debe generarse utilizando el generador de matrices identidad de numpy.\n",
    "* La comparación debe devolver True si las matrices son iguales (un único True), False de no ser así."
   ]
  },
  {
   "cell_type": "code",
   "execution_count": 29,
   "metadata": {},
   "outputs": [
    {
     "data": {
      "text/plain": [
       "False"
      ]
     },
     "execution_count": 29,
     "metadata": {},
     "output_type": "execute_result"
    }
   ],
   "source": [
    "# Respuesta\n",
    "\n",
    "# Usando generadores básicos de array\n",
    "A = np.zeros(100).reshape(10,10)\n",
    "np.fill_diagonal(A, 1)\n",
    "\n",
    "# Usando el generador de matrices de numpy\n",
    "import numpy.matlib\n",
    "B = np.array(np.matlib.identity(10))\n",
    "\n",
    "A == B"
   ]
  },
  {
   "cell_type": "code",
   "execution_count": 23,
   "metadata": {},
   "outputs": [
    {
     "data": {
      "text/plain": [
       "array([[1., 0., 0., 0., 0., 0., 0., 0., 0., 0.],\n",
       "       [0., 1., 0., 0., 0., 0., 0., 0., 0., 0.],\n",
       "       [0., 0., 1., 0., 0., 0., 0., 0., 0., 0.],\n",
       "       [0., 0., 0., 1., 0., 0., 0., 0., 0., 0.],\n",
       "       [0., 0., 0., 0., 1., 0., 0., 0., 0., 0.],\n",
       "       [0., 0., 0., 0., 0., 1., 0., 0., 0., 0.],\n",
       "       [0., 0., 0., 0., 0., 0., 1., 0., 0., 0.],\n",
       "       [0., 0., 0., 0., 0., 0., 0., 1., 0., 0.],\n",
       "       [0., 0., 0., 0., 0., 0., 0., 0., 1., 0.],\n",
       "       [0., 0., 0., 0., 0., 0., 0., 0., 0., 1.]])"
      ]
     },
     "execution_count": 23,
     "metadata": {},
     "output_type": "execute_result"
    }
   ],
   "source": [
    "np.array(B)"
   ]
  },
  {
   "cell_type": "markdown",
   "metadata": {},
   "source": [
    "### Ejercicio 7\n",
    "Cread una matriz de 2x6 donde los valores de cada posición `(i, j)` correspondan a `i^2+j` para todo `i` par, `i/j^2` para todo `i` impar."
   ]
  },
  {
   "cell_type": "code",
   "execution_count": null,
   "metadata": {},
   "outputs": [],
   "source": [
    "# Respuesta\n",
    "\n",
    "A = np.zeros(12).reshape(2,6)"
   ]
  },
  {
   "cell_type": "markdown",
   "metadata": {},
   "source": [
    "### Ejercicio 8\n",
    "Cread dos matrices de tamaño 5x5 con números reales aleatorios. Obtened el resultado de multiplicar ambas matrices usando los dos métodos de multiplicación de matrices vistos en el Notebook de teoría. ¿Cuál es la diferencia entre ambos resultados? Cread ahora dos matrices de tamaño 4x5 y 5x5 respectivamente, repetid la operación. Describid cuál de los métodos de multiplicación podéis aplicar y porqué"
   ]
  },
  {
   "cell_type": "code",
   "execution_count": null,
   "metadata": {},
   "outputs": [],
   "source": [
    "# Respuesta"
   ]
  }
 ],
 "metadata": {
  "kernelspec": {
   "display_name": "Python 3",
   "language": "python",
   "name": "python3"
  },
  "language_info": {
   "codemirror_mode": {
    "name": "ipython",
    "version": 3
   },
   "file_extension": ".py",
   "mimetype": "text/x-python",
   "name": "python",
   "nbconvert_exporter": "python",
   "pygments_lexer": "ipython3",
   "version": "3.8.8"
  }
 },
 "nbformat": 4,
 "nbformat_minor": 4
}
