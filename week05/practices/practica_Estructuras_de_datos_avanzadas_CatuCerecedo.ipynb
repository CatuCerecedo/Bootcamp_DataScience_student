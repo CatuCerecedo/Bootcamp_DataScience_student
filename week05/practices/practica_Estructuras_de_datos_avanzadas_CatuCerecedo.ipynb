{
 "cells": [
  {
   "cell_type": "markdown",
   "metadata": {},
   "source": [
    "# Ejercicios para practicar - Estructura de datos\n",
    "\n",
    "A continuación encontraréis un conjunto de problemas que pueden servir para practicar los conceptos explicados en esta primera unidad, así como para refrescar los conceptos básicos de programación. Os recomendamos que intentéis realizar estos problemas vosotros mismos y que, una vez realizados, comparéis la solución que proponemos con vuestra solución. No dudéis en dirigir todas las dudas que surjan de la resolución de estos ejercicios, o bien de las soluciones propuestas, al foro del aula.\n",
    "\n",
    "1. Decidid cuál es la estructura de datos más adecuada para responder a cada una de las preguntas siguientes y escribid el código que permita responderlas.\n",
    "\n",
    "Disponemos de datos de un conjunto de ciudades del mundo. De cada ciudad, sabemos si tiene más de 14 millones de habitantes, si es capital del país donde se encuentra y si tiene una densidad de población por encima de los 20.000 habitantes por $km^2$:\n",
    "* Las ciudades Shanghai, Beijing, Delhi, Estambul, Karachi, Guangzhou y Kinshasa tienen más de 14 millones de habitantes. El resto de las ciudades de las que tenemos datos tienen 14 millones o menos de habitantes.\n",
    "* Las ciudades Delhi, Beijing, Kinshasa, Tokio, Moscow, Jakarta, Seoul y El Cairo son capitales del país donde se encuentran. El resto de las ciudades de las que tenemos datos no son capitales.\n",
    "* Las ciudades El Cairo, Kinshasa, Delhi y Tokio tienen una densidad de población por encima de los 20.000 habitantes por $km^2$. El resto de las ciudades de las que tenemos datos no superan los 20.000 habitantes por $km^2$. \n",
    "\n",
    "1.1. ¿De cuántas ciudades (diferentes) tenemos datos? Asumiremos que no hay ninguna ciudad que no cumpla al menos una de las propiedades anteriores.\n"
   ]
  },
  {
   "cell_type": "code",
   "execution_count": 3,
   "metadata": {},
   "outputs": [
    {
     "name": "stdout",
     "output_type": "stream",
     "text": [
      "Hay un total de 12 ciudades: {'Estambul', 'Tokio', 'El Cairo', 'Guangzhou', 'Seoul', 'Karachi', 'Shanghai', 'Beijing', 'Moscow', 'Jakarta', 'Delhi', 'Kinshasa'}\n"
     ]
    }
   ],
   "source": [
    "# Respuesta\n",
    "\n",
    "# Copiamos el nombre de todas las ciudades indipendientemente sus características\n",
    "ciudades = ['Shanghai', 'Beijing', 'Delhi', 'Estambul', 'Karachi', 'Guangzhou', 'Kinshasa', 'Delhi', 'Beijing', 'Kinshasa', 'Tokio',\n",
    "'Moscow', 'Jakarta', 'Seoul', 'El Cairo', 'El Cairo', 'Kinshasa', 'Delhi', 'Tokio']\n",
    "\n",
    "# Aplicamos set para que no haya repeticiones\n",
    "print(f'Hay un total de {len(set(ciudades))} ciudades: {set(ciudades)}')"
   ]
  },
  {
   "cell_type": "markdown",
   "metadata": {},
   "source": [
    "1.2. ¿Cuántas ciudades tienen más de 14 millones de habitantes y una densidad de población por encima de los 20.000 habitantes por $ km ^ 2 $?\n"
   ]
  },
  {
   "cell_type": "code",
   "execution_count": 9,
   "metadata": {},
   "outputs": [
    {
     "name": "stdout",
     "output_type": "stream",
     "text": [
      "Hay un total de 2 ciudades con más de 14 millones de habitantes y una densidad por encima de 20.000 hab/km^2: {'Delhi', 'Kinshasa'}\n"
     ]
    }
   ],
   "source": [
    "# Respuesta\n",
    "\n",
    "# En este caso hacemos dos listas según las catedorias\n",
    "mas_14_hab = ['Shanghai', 'Beijing', 'Delhi', 'Estambul', 'Karachi', 'Guangzhou', 'Kinshasa']\n",
    "densidad_20 = ['El Cairo', 'Kinshasa', 'Delhi', 'Tokio']\n",
    "\n",
    "# Unimos ambas listas y volvemos a aplicar set\n",
    "ciudades2 = set(mas_14_hab) & set(densidad_20) # & no se puede aplicar a listas otra opción con listas intersection método\n",
    "print(f'Hay un total de {len(ciudades2)} ciudades con más de 14 millones de habitantes y una densidad por encima de 20.000 hab/km^2: {ciudades2}')"
   ]
  },
  {
   "cell_type": "markdown",
   "metadata": {},
   "source": [
    "1.3. ¿Qué ciudades tienen una densidad de población por encima de los 20.000 habitantes por $ km ^ 2 $ pero no más de 14 millones de habitantes?\n"
   ]
  },
  {
   "cell_type": "code",
   "execution_count": 10,
   "metadata": {},
   "outputs": [
    {
     "name": "stdout",
     "output_type": "stream",
     "text": [
      "Hay un total de 4 ciudades con menos de 14 millones de habitantes y una densidad por encima de 20.000 hab/km^2: {'Delhi', 'El Cairo', 'Tokio', 'Kinshasa'}\n"
     ]
    }
   ],
   "source": [
    "# Respuesta\n",
    "\n",
    "menos_14_hab = ['Delhi', 'Beijing', 'Kinshasa', 'Tokio', 'Moscow', 'Jakarta', 'Seoul', 'El Cairo', 'El Cairo', 'Kinshasa', 'Delhi', 'Tokio']\n",
    "\n",
    "# Unimos ambas listas y volvemos a aplicar set\n",
    "ciudades3 = set(menos_14_hab) & set(densidad_20) # & no se puede aplicar a listas otra opción con listas intersection método\n",
    "print(f'Hay un total de {len(ciudades3)} ciudades con menos de 14 millones de habitantes y una densidad por encima de 20.000 hab/km^2: {ciudades3}')"
   ]
  },
  {
   "cell_type": "markdown",
   "metadata": {},
   "source": [
    "1.4. ¿Cuál es el país con mayor número de ciudades por encima de 14 millones de habitantes? ¿Cuántas ciudades de estas características hay en cada país?\n",
    "\n",
    "Para responder a estas preguntas, nos faltará añadir información al conjunto de datos de ciudades disponible para realizar la actividad. Pensad cuál sería la estructura de datos más adecuada para almacenar esta información extra y calcular la respuesta a la pregunta planteada.\n"
   ]
  },
  {
   "cell_type": "code",
   "execution_count": 37,
   "metadata": {},
   "outputs": [
    {
     "name": "stdout",
     "output_type": "stream",
     "text": [
      "{'Shanghai': 'China', 'Beijing': 'China', 'Delhi': 'India', 'Estambul': 'Turquía', 'Karachi': 'Pakistán', 'Guangzhou': 'China', 'Kinshasa': 'Congo'}\n",
      "El país con mayor número de ciudades con más de 14 millones de habitante es China: {'China': 3, 'India': 1, 'Turquía': 1, 'Pakistán': 1, 'Congo': 1}\n"
     ]
    }
   ],
   "source": [
    "# Respuesta\n",
    "\n",
    "# Creamos una diccionario: ciudad es la key y país el value\n",
    "paises = {'Estambul':'Turquía',\n",
    "          'Tokio':'Japón', \n",
    "          'El Cairo': 'Egipto', \n",
    "          'Guangzhou':'China',\n",
    "          'Seoul':'Corea del Sur', \n",
    "          'Karachi':'Pakistán', \n",
    "          'Shanghai':'China', \n",
    "          'Beijing':'China', \n",
    "          'Moscow':'Rusia', \n",
    "          'Jakarta':'Indonesia', \n",
    "          'Delhi':'India', \n",
    "          'Kinshasa':'Congo'\n",
    "}\n",
    "\n",
    "# Seleccionamos los elementos del diccionario presentes en mas_14_hab\n",
    "result = {k:paises[k] for k in mas_14_hab}\n",
    "print(result)\n",
    "\n",
    "# Contamos el número de países\n",
    "pais_count = []\n",
    "\n",
    "for key, value in result.items():\n",
    "    pais_count.append(value)\n",
    "\n",
    "r = dict(zip(pais_count, map(lambda x: pais_count.count(x), pais_count)))\n",
    "\n",
    "print(f'El país con mayor número de ciudades con más de 14 millones de habitante es China: {r}')"
   ]
  },
  {
   "cell_type": "markdown",
   "metadata": {},
   "source": [
    "1.5. ¿Cuáles son los dos países adyacentes que tienen el mayor número de ciudades por encima de 14 millones de habitantes?\n",
    "\n",
    "Para responder a esta pregunta, nos faltará añadir más información al conjunto de datos de ciudades disponible para realizar la actividad. De nuevo, pensad cuál sería la estructura de datos más adecuada para almacenar esta información extra y calcular la respuesta a la pregunta planteada.\n",
    "\n"
   ]
  },
  {
   "cell_type": "code",
   "execution_count": 97,
   "metadata": {},
   "outputs": [],
   "source": [
    "# Respuesta"
   ]
  },
  {
   "cell_type": "markdown",
   "metadata": {},
   "source": [
    "2. Calculad cuántas horas ha trabajado la persona que ha escrito la siguiente frase:\n",
    "\n",
    "\"I started working at 17:22:42 and finished at 22:00:00\"\n",
    "\n"
   ]
  },
  {
   "cell_type": "code",
   "execution_count": 47,
   "metadata": {},
   "outputs": [
    {
     "name": "stdout",
     "output_type": "stream",
     "text": [
      "La persona ha trabajado un total de 4:37:18\n"
     ]
    }
   ],
   "source": [
    "sentence = \"I started working at 17:22:42 and finished at 22:00:00\"\n",
    "\n",
    "# Respuesta\n",
    "start = sentence.split(\" \")[4]\n",
    "end = sentence.split(\" \")[8]\n",
    "\n",
    "import datetime as dt\n",
    "start = dt.datetime.strptime(start, '%H:%M:%S')\n",
    "end = dt.datetime.strptime(end, '%H:%M:%S')\n",
    "\n",
    "deltatime = end - start\n",
    "print(f'La persona ha trabajado un total de {deltatime}')"
   ]
  },
  {
   "cell_type": "markdown",
   "metadata": {},
   "source": [
    "3. Dada la cadena de caracteres `sentence`, reemplazad todos los espacios en blanco por puntos.\n"
   ]
  },
  {
   "cell_type": "code",
   "execution_count": 2,
   "metadata": {},
   "outputs": [
    {
     "data": {
      "text/plain": [
       "'.From.....time.to.time,.Python.makes..an....incompatible.change..to.the...advertised.semantics.of.core.language.constructs...'"
      ]
     },
     "execution_count": 2,
     "metadata": {},
     "output_type": "execute_result"
    }
   ],
   "source": [
    "sentence = \" From     time to time, Python makes  an    incompatible change \" \\\n",
    "    \" to the   advertised semantics of core language constructs   \"\n",
    "\n",
    "# Respuesta\n",
    "sentence.replace(\" \", \".\")"
   ]
  },
  {
   "cell_type": "markdown",
   "metadata": {},
   "source": [
    "4. Dada la misma cadena de caracteres del ejercicio anterior, reemplazad todos los espacios en blanco contiguos por un único punto. Es decir, si encontráis tres espacios en blanco consecutivos, estos se deben reemplazar por un único punto, y no por tres puntos como implementábamos en el ejercicio anterior. Eliminad los espacios que se encuentran al inicio y al final de la cadena antes de sustituirlos por puntos.\n"
   ]
  },
  {
   "cell_type": "code",
   "execution_count": 12,
   "metadata": {},
   "outputs": [
    {
     "data": {
      "text/plain": [
       "'From.time.to.time,.Python.makes.an.incompatible.change.to.the.advertised.semantics.of.core.language.constructs'"
      ]
     },
     "execution_count": 12,
     "metadata": {},
     "output_type": "execute_result"
    }
   ],
   "source": [
    "# Respuesta\n",
    "sentence = \" From     time to time, Python makes  an    incompatible change \" \\\n",
    "    \" to the   advertised semantics of core language constructs   \"\n",
    "\n",
    "'.'.join(sentence.split())"
   ]
  },
  {
   "cell_type": "markdown",
   "metadata": {},
   "source": [
    "5. Proporcionad una lista con todas las palabras de cuatro letras de la cadena de caracteres `sentence` que empiecen por `t` o `F`.\n"
   ]
  },
  {
   "cell_type": "code",
   "execution_count": 80,
   "metadata": {},
   "outputs": [
    {
     "data": {
      "text/plain": [
       "['From', 'time']"
      ]
     },
     "execution_count": 80,
     "metadata": {},
     "output_type": "execute_result"
    }
   ],
   "source": [
    "# Respuesta\n",
    "sentence = \" From     time to time, Python makes  an    incompatible change \" \\\n",
    "    \" to the   advertised semantics of core language constructs   \"\n",
    "\n",
    "letters =['t', 'F']\n",
    "found_words = [w for w in sentence.split() if len(w)==4 and w[0] in letters]\n",
    "found_words"
   ]
  },
  {
   "cell_type": "markdown",
   "metadata": {},
   "source": [
    "6. Reemplazad todas las mayúsculas de la cadena `sentence` por interrogantes.\n"
   ]
  },
  {
   "cell_type": "code",
   "execution_count": 75,
   "metadata": {},
   "outputs": [
    {
     "name": "stdout",
     "output_type": "stream",
     "text": [
      " ?rom     time to time, ?ython makes  an    incompatible change  to the   advertised semantics of core language constructs   \n"
     ]
    }
   ],
   "source": [
    "# Respuesta\n",
    "sentence = \" From     time to time, Python makes  an    incompatible change \" \\\n",
    "    \" to the   advertised semantics of core language constructs   \"\n",
    "\n",
    "new_value='?'\n",
    "for letter in sentence:\n",
    "    if letter.isupper():\n",
    "        sentence = sentence.replace(letter, new_value)\n",
    "\n",
    "print(sentence)"
   ]
  },
  {
   "cell_type": "markdown",
   "metadata": {},
   "source": [
    "7. Una aerolínea nos contrata para ayudarla a optimizar el procedimiento de embarque de sus aviones. La aerolínea dispone de tres clases de billetes: primera, *business* y turista. A la hora de embarcar, los clientes se sitúan en tres colas, una para cada clase. Después, sin embargo, solo hay dos azafatas que les validen la tarjeta de embarque, por lo que las tres colas iniciales se convierten en dos, a partir de las cuales los pasajeros acceden a los aviones.\n",
    "\n",
    "Actualmente, la aerolínea utiliza la siguiente estrategia para convertir las tres colas iniciales (por clase) en las dos colas que embarcan (una por cada azafata):\n",
    "\n",
    "Por un lado, los clientes de primera y *business* van a parar a la cola 1 (cola prioritaria), intercalando un cliente de cada tipo en la cola prioritaria siempre que haya suficientes clientes para hacerlo, y asignando después todos los clientes restantes a la nueva cola. Así, el primer cliente que se asigna a la cola prioritaria es el primer cliente de la clase primera, el segundo cliente de la cola prioritaria será el primer cliente de la cola de *business*, el tercer cliente de la cola prioritaria será el segundo cliente de la clase primera, etc.\n",
    "\n",
    "Por otra parte, los clientes de clase turista van a parar a la cola 2 (cola no prioritaria), siguiendo el orden que tenían en la cola de la clase turista. Ahora bien, si un cliente de clase turista tiene movilidad reducida o va acompañado de niños, entonces este se sitúa al frente de la cola prioritaria. Si hay más de un cliente en estas condiciones, el orden que siguen en la cola de la clase turista se mantiene.\n",
    "\n",
    "Para evaluar cómo de buena es la estrategia, la aerolínea utiliza dos métricas:\n",
    "1. El tiempo que se tarda en embarcar el avión es de 30 segundos por pasajero, considerando que las dos colas (1 y 2) embarcan a la vez. Es decir, si la cola 1 tiene un pasajero y la cola 2 tiene dos, se tardará un minuto en embarcar.\n",
    "2. La satisfacción global de sus clientes, que se calcula haciendo la media de la satisfacción de cada cliente, considerando que:\n"
   ]
  },
  {
   "cell_type": "markdown",
   "metadata": {},
   "source": [
    "* Los clientes de primera tienen una satisfacción de -25 veces el número de posiciones que han perdido en la cola prioritaria respecto a su posición original en la cola de primera. Es decir, un cliente que estaba en tercera posición en la cola de primera y que ocupa la quinta posición de la cola prioritaria, tendrá una satisfacción de -50.\n",
    "* Los clientes de *business* siempre tienen una satisfacción de 0.\n",
    "* Los clientes con billete de clase turista que han sido movidos a la cola prioritaria tienen una satisfacción de 100. En cambio, los que han sido movidos a la cola no prioritaria tienen una satisfacción de 25 si han avanzado alguna posición en la cola 2 respecto a su posición inicial en la cola de la clase turista, o de 0 en cualquier otro caso.\n",
    "\n",
    "Como analistas de datos, evaluaremos la satisfacción y el tiempo de embarque del avión del vuelo 714.\n"
   ]
  },
  {
   "cell_type": "markdown",
   "metadata": {},
   "source": [
    "7.1 Cargad los datos de los pasajeros del vuelo 714 que encontraréis en el dataset `data/flight714.csv` y cread las tres colas, primera, *business* y turista, con los datos de los pasajeros. Los clientes se encuentran ordenados según su posición en la cola, con la columna `client_class` indicando a cuál de las colas pertenecen.\n"
   ]
  },
  {
   "cell_type": "code",
   "execution_count": 14,
   "metadata": {},
   "outputs": [
    {
     "name": "stdout",
     "output_type": "stream",
     "text": [
      "<class 'pandas.core.frame.DataFrame'>\n",
      "RangeIndex: 50 entries, 0 to 49\n",
      "Data columns (total 4 columns):\n",
      " #   Column                Non-Null Count  Dtype \n",
      "---  ------                --------------  ----- \n",
      " 0   client_id             50 non-null     int64 \n",
      " 1   client_class          50 non-null     object\n",
      " 2   has_children          50 non-null     int64 \n",
      " 3   has_reduced_mobility  50 non-null     int64 \n",
      "dtypes: int64(3), object(1)\n",
      "memory usage: 1.7+ KB\n",
      "None\n"
     ]
    },
    {
     "name": "stderr",
     "output_type": "stream",
     "text": [
      "<ipython-input-14-87f2f3465fe2>:11: SettingWithCopyWarning: \n",
      "A value is trying to be set on a copy of a slice from a DataFrame.\n",
      "Try using .loc[row_indexer,col_indexer] = value instead\n",
      "\n",
      "See the caveats in the documentation: https://pandas.pydata.org/pandas-docs/stable/user_guide/indexing.html#returning-a-view-versus-a-copy\n",
      "  cola_1['rank'] = cola_1.groupby(['client_class','has_children', 'has_reduced_mobility']).cumcount()\n"
     ]
    }
   ],
   "source": [
    "# Respuesta\n",
    "import pandas as pd\n",
    "ruta_fichero = 'https://raw.githubusercontent.com/CatuCerecedo/Bootcamp_DataScience_student/master/week05/practices/flight714.csv'\n",
    "\n",
    "df = pd.read_csv(ruta_fichero) # Mira el encabezado para saber qué tipo de separados lleva cuando te da error\n",
    "print(df.info())\n",
    "\n",
    "# Creamos las colas. \n",
    "cola_1 = df[(df['client_class'] != 't')]\n",
    "\n",
    "cola_1['rank'] = cola_1.groupby(['client_class','has_children', 'has_reduced_mobility']).cumcount()\n",
    "cola_1 = cola_1.sort_values(['rank'])\n",
    "cola_1 = cola_1.drop(['rank'], axis=1)\n",
    "\n",
    "cola_1b = df[(df['has_children'] > 0) | (df['has_reduced_mobility'] > 0)]\n",
    "\n",
    "cola_1=cola_1b.append(cola_1)\n",
    "\n",
    "cola_2 = df[(df['client_class'] == 't') & (df['has_children'] < 1) & (df['has_reduced_mobility'] < 1)]"
   ]
  },
  {
   "cell_type": "markdown",
   "metadata": {},
   "source": [
    "7.2 Mostrad cuántos pasajeros hay en cada cola, con el detalle de cuántos de ellos tienen o bien niños o bien movilidad reducida.\n"
   ]
  },
  {
   "cell_type": "code",
   "execution_count": 15,
   "metadata": {},
   "outputs": [
    {
     "name": "stdout",
     "output_type": "stream",
     "text": [
      "En la cola 1 hay un total de 19 pasajeros:\n",
      "Con hijos 4 y con movilidad reducida 3\n",
      "En la cola 2 hay un total de 31 pasajeros:\n",
      "Con hijos 0 y con movilidad reducida 0\n"
     ]
    }
   ],
   "source": [
    "# Respuesta\n",
    "# Número de hijos y movilidad reducida en las colas\n",
    "\n",
    "cola_1_children = (cola_1['has_children'] == 1).sum()\n",
    "cola_1_movility = (cola_1['has_reduced_mobility'] == 1).sum()\n",
    "cola_2_children = (cola_2['has_children'] == 1).sum()\n",
    "cola_2_movility = (cola_2['has_reduced_mobility'] == 1).sum()\n",
    "\n",
    "print(f'En la cola 1 hay un total de {len(cola_1)} pasajeros:')\n",
    "print(f'Con hijos {cola_1_children} y con movilidad reducida {cola_1_movility}')\n",
    "print(f'En la cola 2 hay un total de {len(cola_2)} pasajeros:')\n",
    "print(f'Con hijos {cola_2_children} y con movilidad reducida {cola_2_movility}')"
   ]
  },
  {
   "cell_type": "markdown",
   "metadata": {},
   "source": [
    "7.3 Implementad una función que genere las dos colas de embarque (cola prioritaria y cola no prioritaria) a partir de las tres colas obtenidas según la clase del billete del pasajero.\n"
   ]
  },
  {
   "cell_type": "code",
   "execution_count": 31,
   "metadata": {},
   "outputs": [],
   "source": [
    "# Respuesta\n",
    "\n",
    "def create_queue(df):\n",
    "    cola_1 = pd.DataFrame()\n",
    "    cola_2 = pd.DataFrame()\n",
    "\n",
    "    for i in range(0,len(df['client_class'])):\n",
    "        if df['client_class'][i] != 't':\n",
    "            cola_1 = cola_1.append(df.iloc[i], ignore_index = True)\n",
    "        elif (df['client_class'][i] == 't') & (df['has_children'][i] == 0) & (df['has_reduced_mobility'][i] == 0):\n",
    "                    cola_2 = cola_2.append(df.iloc[i], ignore_index = False)\n",
    "            \n",
    "    cola_1['rank'] = cola_1.groupby(['client_class','has_children', 'has_reduced_mobility']).cumcount()\n",
    "    cola_1 = cola_1.sort_values(['rank'])\n",
    "    cola_1 = cola_1.drop(['rank'], axis=1)\n",
    "    cola_1b = df[(df['has_children'] > 0) | (df['has_reduced_mobility'] > 0)]\n",
    "    cola_1=cola_1b.append(cola_1)\n",
    "    \n",
    "    return cola_1, cola_2\n",
    "\n",
    "cola_1, cola_2 = create_queue(df)"
   ]
  },
  {
   "cell_type": "markdown",
   "metadata": {},
   "source": [
    "7.4 Implementad una función que calcule el tiempo que se tarda en embarcar el avión y una función que calcule la satisfacción de los pasajeros.\n"
   ]
  },
  {
   "cell_type": "code",
   "execution_count": 57,
   "metadata": {},
   "outputs": [],
   "source": [
    "# Respuesta\n",
    "def board_time (cola_1, cola_2):\n",
    "    p=[len(cola_1), len(cola_2)]\n",
    "    tim=(min(p) + (max(p) - min(p)))*30\n",
    "    return tim"
   ]
  },
  {
   "cell_type": "code",
   "execution_count": 65,
   "metadata": {},
   "outputs": [],
   "source": [
    "def satisfaction(cola_1, cola_2):\n",
    "    unsatis = []\n",
    "    for i in range(len(cola_1)):\n",
    "        priority_back= cola_1.index[i] - i\n",
    "        unsatis.append(priority_back)\n",
    "    unsatis = unsatis[6:]\n",
    "\n",
    "    cola_2_a_cola_1 = cola_1[cola_1['client_class'] == 't'].count()['client_class']\n",
    "\n",
    "    sat_cola_2 = 0\n",
    "    for i in range(len(cola_2)):\n",
    "        if i < (cola_2.index[i]-13): #Porque los 13 primeros de la lista df no esran turistas\n",
    "            sat_cola_2+=1\n",
    "\n",
    "\n",
    "    return sum(unsatis)*25 + cola_2_a_cola_1*100 + sat_cola_2*25 \n",
    "    \n"
   ]
  },
  {
   "cell_type": "markdown",
   "metadata": {},
   "source": [
    "7.5 Calculad el tiempo que se tarda en embarcar el vuelo 714 y la satisfacción de los clientes.\n"
   ]
  },
  {
   "cell_type": "code",
   "execution_count": 66,
   "metadata": {},
   "outputs": [
    {
     "name": "stdout",
     "output_type": "stream",
     "text": [
      "Tiempo que se tarda en embarcar el avión: 930 segundos, es decir, 15.5 minutos\n",
      "La satisfacción de los clientes tiene un valoración de -600\n"
     ]
    }
   ],
   "source": [
    "# Respuesta\n",
    "board=board_time(cola_1, cola_2)\n",
    "print(f'Tiempo que se tarda en embarcar el avión: {board} segundos, es decir, {board/60} minutos')\n",
    "\n",
    "sat=satisfaction(cola_1, cola_2)\n",
    "print(f'La satisfacción de los clientes tiene un valoración de {sat}')"
   ]
  }
 ],
 "metadata": {
  "kernelspec": {
   "display_name": "Python 3",
   "language": "python",
   "name": "python3"
  },
  "language_info": {
   "codemirror_mode": {
    "name": "ipython",
    "version": 3
   },
   "file_extension": ".py",
   "mimetype": "text/x-python",
   "name": "python",
   "nbconvert_exporter": "python",
   "pygments_lexer": "ipython3",
   "version": "3.8.8"
  },
  "pycharm": {
   "stem_cell": {
    "cell_type": "raw",
    "metadata": {
     "collapsed": false
    },
    "source": []
   }
  }
 },
 "nbformat": 4,
 "nbformat_minor": 4
}
