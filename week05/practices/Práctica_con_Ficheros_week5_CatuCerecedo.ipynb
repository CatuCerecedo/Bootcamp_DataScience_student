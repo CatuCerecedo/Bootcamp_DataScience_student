{
 "cells": [
  {
   "cell_type": "markdown",
   "metadata": {},
   "source": [
    "# Week5 - Ejercicios para practicar\n",
    "\n",
    "A continuación encontraréis un conjunto de problemas que os pueden servir para practicar los conceptos explicados en esta unidad. Os recomendamos que intentéis realizar estos problemas vosotros mismos y que, una vez realizados, comparéis la solución que proponemos con vuestra solución. No dudéis en dirigir todas las dudas que surjan de la resolución de estos ejercicios, o de las soluciones propuestas, al foro del aula.\n",
    "\n",
    "1. Cread un código que permita monitorizar el consumo de memoria RAM de la máquina en la que se ejecute. El código guardará los datos de la memoria total y utilizada del sistema durante un periodo de tiempo, capturando los datos en intervalos periódicos.\n",
    "\n",
    "Estos datos se guardarán en archivos de texto, utilizando un fichero para los datos capturados en cada momento. Así, dentro de la carpeta de datos, habrá una carpeta para los datos de cada día (que tendrá por nombre el año, el mes y el día, escritos seguidos, por ejemplo, `20200318`). Dentro de la carpeta de cada día, habrá un archivo para cada instante de tiempo en el que se hayan obtenido datos (que tendrá por nombre la hora, el minuto y el segundo, separados por guiones bajos, por ejemplo, `14_45_55`). El contenido del archivo serán los dos valores (memoria total y utilizada) separados por comas (por ejemplo, `15571, 4242`).\n",
    "\n",
    "Cread también el código que permita recuperar todos los datos almacenados y obtener una descripción estadística básica (media, mediana y desviación estándar).\n",
    "\n",
    "Para ello, implementaremos una serie de funciones que se detallan a continuación.\n",
    "\n",
    "1.1. Cread una función que reciba como parámetro el nombre de una carpeta (que será `mem_data` por defecto) y cree las carpetas necesarias para almacenar datos para el día actual. Es decir, el código deberá crear, si no existe ya, una carpeta de datos con el nombre que ha recibido como parámetro (o usar `mem_data` si no se ha especificado ningún nombre), y otra carpeta dentro de esta que tenga por nombre el día actual (en el formato año de 4 cifras, mes de 2 cifras, día de 2 cifras, seguidos sin separadores, por ejemplo, `20200318`)."
   ]
  },
  {
   "cell_type": "code",
   "execution_count": 2,
   "metadata": {},
   "outputs": [],
   "source": [
    "def crear_carpeta(nombre_archivo):\n",
    "    # Importamos os para poder interactuar con el sistema operativo\n",
    "    import os\n",
    "\n",
    "    # Nombre del carpeta donde se guardarán el resto de archivos\n",
    "    new_folder = nombre_archivo\n",
    "\n",
    "    # Crear la carpeta mem_data\n",
    "    print(f'Ruta de la nueva carpeta {os.getcwd()}') #Conocer la ruta de guardado de la carpeta\n",
    "\n",
    "    os.mkdir(new_folder)"
   ]
  },
  {
   "cell_type": "markdown",
   "metadata": {},
   "source": [
    "1.2. Implementad una función que reciba como parámetro el *path* con la carpeta de la fecha actual (que se ha creado en el apartado anterior) y escriba un fichero con los datos de consumo de memoria del sistema actuales. El archivo debe tener por nombre la hora actual (en el formato `hora_minuto_segundo`, con los ítems separados por guiones bajos, por ejemplo,` 14_45_55`). El contenido del archivo serán los dos valores (memoria total y utilizada) en megabytes separados por comas (por ejemplo, `15571, 4242`).\n",
    "\n",
    "Para obtener los datos del consumo de memoria, recordad que podéis ejecutar comandos del sistema con el módulo `subprocess` (seguramente necesitaréis buscar información sobre cómo obtener estos datos con comandos de *unix*)."
   ]
  },
  {
   "cell_type": "code",
   "execution_count": 3,
   "metadata": {},
   "outputs": [],
   "source": [
    "# Respuesta\n",
    "\n",
    "def consumo_memoria(my_path):\n",
    "    ''' \n",
    "    Crea un archo .txt con información del consumo de memoria actual  (total y utilizada).\n",
    "    El nombre del archivo es la hora_minuto_segundo creado en el path.\n",
    "\n",
    "    Arg:\n",
    "        path (str): directorio\n",
    "    \n",
    "    return:\n",
    "        documento .txt\n",
    "    '''\n",
    "    # Cear un archivo .txt cuyo nombre sea la fecha de hoy 'hora_minuto_segundo'\n",
    "\n",
    "    ## Definimos el nombre del archivo\n",
    "    import datetime\n",
    "    now_datetime = datetime.datetime.now()\n",
    "    now_datetime = now_datetime.strftime(\"%H_%M_%S\")\n",
    "    now_datetime = now_datetime + '.txt'\n",
    "\n",
    "    ## Creamos el archivo\n",
    "    full_path = os.path.join(my_path, now_datetime)\n",
    "    archivo = open(full_path, 'w')\n",
    "\n",
    "    # calculamos consumo de memoria total y utilizada\n",
    "    from sys import getsizeof\n",
    "    from psutil import virtual_memory\n",
    "\n",
    "    factor = 1024**2# Bytes to megabytes\n",
    "    memoria = virtual_memory() # Memoria total utilizada\n",
    "    mem_total = memoria.total/factor\n",
    "    memoria_utilizada = memoria.used/factor\n",
    "\n",
    "    # Escribir en el archivo\n",
    "    archivo.write(f\"Memoria total =  {mem_total}\\nMemoria utilizada = {memoria_utilizada}\") \n",
    "    archivo.close()"
   ]
  },
  {
   "cell_type": "code",
   "execution_count": 4,
   "metadata": {},
   "outputs": [],
   "source": [
    "# Ejemplo\n",
    "\n",
    "# crear my_path\n",
    "my_path = '..\\\\Week7\\\\mem_data'\n",
    "\n",
    "# crear my_path\n",
    "consumo_memoria(my_path)\n",
    "\n",
    "# Funciona!"
   ]
  },
  {
   "cell_type": "markdown",
   "metadata": {},
   "source": [
    "1.3. Implementad una función que reciba como parámetros el número de muestras que capturar y el intervalo de tiempo entre cada una de las muestras (en segundos), y que capture los datos del consumo de memoria tantas veces como se haya especificado, esperando el tiempo indicado entre capturas. La función hará uso de las dos funciones definidas anteriormente.\n"
   ]
  },
  {
   "cell_type": "code",
   "execution_count": 5,
   "metadata": {},
   "outputs": [],
   "source": [
    "# Respuesta\n",
    "import time\n",
    "\n",
    "def capture(sample, sleep_interval, my_path):\n",
    "    '''\n",
    "    Crea un conjunto de archivos .txt según el intervalo de tiempo especificado.\n",
    "    El nombre del archivo es la hora_minuto_segundo creado en el path\n",
    "    La información recogida corresponde al consumo de memoria actual (total y utilizada)\n",
    "\n",
    "    Arg:\n",
    "        sample (int): número de muestras\n",
    "        sleep_interval (int): tiempo transcurrido entre la recogida de información de cada muestra (en segundos)\n",
    "        my_path(str): ruta donde guardar las muestras\n",
    "    '''\n",
    "    n=0\n",
    "    while n < sample:\n",
    "        consumo_memoria(my_path)\n",
    "        n +=1\n",
    "        time.sleep(sleep_interval)\n",
    "    else:\n",
    "        print('Finish!')\n"
   ]
  },
  {
   "cell_type": "markdown",
   "metadata": {},
   "source": [
    "1.4. Llamad a la función definida en el apartado 1.3 y capturad 20 muestras de consumo de memoria, utilizando un intervalo de 3 segundos entre cada captura."
   ]
  },
  {
   "cell_type": "code",
   "execution_count": 77,
   "metadata": {},
   "outputs": [
    {
     "name": "stdout",
     "output_type": "stream",
     "text": [
      "Finish!\n"
     ]
    }
   ],
   "source": [
    "# Respuesta\n",
    "capture(20, 3, my_path)"
   ]
  },
  {
   "cell_type": "markdown",
   "metadata": {},
   "source": [
    "1.5. Implementad una función que lea todos los datos que se han capturado, almacenados en una carpeta que recibirá como parámetro (y que, de nuevo, tomará como valor por defecto `mem_data`), y que muestre los siguientes datos:\n",
    "* El número de muestras leídas.\n",
    "* La media de la memoria total y utilizada.\n",
    "* La mediana de la memoria total y utilizada.\n",
    "* La desviación estándar de la memoria total y utilizada.\n",
    "* La fecha y hora de la primera y última capturas de las que tenemos datos.\n",
    "\n",
    "Llamad a la función anterior para obtener un resumen de los datos capturados."
   ]
  },
  {
   "cell_type": "code",
   "execution_count": 8,
   "metadata": {},
   "outputs": [],
   "source": [
    "# Respuesta\n",
    "def sum_memory(my_path):\n",
    "    mem= []\n",
    "    if os.path.isdir(my_path) == False:\n",
    "        print(f'The {my_path} does not exist')\n",
    "    else:\n",
    "        with os.scandir(my_path) as dir_list:\n",
    "            for entry in dir_list:\n",
    "                with open(entry, 'r') as l:\n",
    "                        for line in l:\n",
    "                            mem.append(line.split())\n",
    "\n",
    "        # Número de muestras\n",
    "        print(f'Number of samples {len(mem)/2}')\n",
    "\n",
    "        # Media de la memoria total y la memoria utilizada\n",
    "        mem_total = []\n",
    "        mem_utilizada = []\n",
    "\n",
    "        for i in range(len(mem)):\n",
    "            if i % 2 == 0:\n",
    "                mem_total.append(float(mem[i][3]))\n",
    "            else:\n",
    "                mem_utilizada.append(float(mem[i][3]))\n",
    "        \n",
    "        print(f'Total memory average: {int(sum(mem_total)/len(mem_total))} MB')\n",
    "        print(f'Used memory average: {int(sum(mem_utilizada)/len(mem_utilizada))} MB')\n",
    "\n",
    "        def std_dev(x):\n",
    "            a = []\n",
    "            media = sum(x)/len(x)\n",
    "\n",
    "            for i in range(0, len(x)):\n",
    "                a.append((x[i]-media)**2)\n",
    "\n",
    "            return (sum(a)/len(a))**(1/2)\n",
    "\n",
    "        print(f'Total memory standard deviation:  {round(std_dev(mem_total), 2)}')\n",
    "        print(f'Used memory standard deviation:  {round(std_dev(mem_utilizada), 2)}')\n",
    "\n",
    "        def mediana(x):\n",
    "                x.sort()\n",
    "                if len(x) % 2 != 0:\n",
    "                    a = int(len(x)/2)\n",
    "                    return x[a]\n",
    "                else:\n",
    "                    b = int((len(x)/2)-1)\n",
    "                    c = int(len(x)/2)\n",
    "                    return ((x[b] + x[c])/2)\n",
    "        print(f'Median of total memory:   {int(mediana(mem_total))} MB')\n",
    "        print(f'Median of used memory:   {int(mediana(mem_utilizada))} MB')\n"
   ]
  },
  {
   "cell_type": "markdown",
   "metadata": {},
   "source": [
    "1.6. Implementad una función que cree un archivo comprimido con todos los datos almacenados para cada día. La función recibirá como argumento el nombre de la carpeta de datos (por defecto, `mem_data`) y creará tantos ficheros comprimidos como días de los que disponemos datos. Cada archivo comprimido contendrá todos los archivos de datos de ese día.\n",
    "\n",
    "Llamad a la función anterior y comprobad que se generan los ficheros comprimidos correctamente.\n"
   ]
  },
  {
   "cell_type": "code",
   "execution_count": 12,
   "metadata": {},
   "outputs": [],
   "source": [
    "# Respuesta\n",
    "import zipfile as zf\n",
    "\n",
    "def compressed_zip(my_path):\n",
    "    zip_file = '..\\\\Week7\\\\mem_data\\\\compressed_file.zip'\n",
    "    # creamos el fichero\n",
    "    with zf.ZipFile(zip_file, 'w', compression=zf.ZIP_DEFLATED) as zip_f:\n",
    "        # Añadimos el fichero p_big \n",
    "        zip_f.write(my_path)"
   ]
  },
  {
   "cell_type": "markdown",
   "metadata": {},
   "source": [
    "***\n",
    "\n",
    "# 8. Bibliografía\n",
    "\n",
    "\n",
    "## 8.1. Bibliografía básica\n",
    "\n",
    "La codificación es uno de los detalles importantes que se debe considerar cuando hay que leer y/o escribir un archivo y, a menudo, es el origen de dolores de cabeza en muchos programadores (sobre todo en lenguajes de más bajo nivel que Python). Para entender qué es la codificación de caracteres, conocer cuáles son las codificaciones de caracteres más habituales y saber cómo gestiona Python 3 la codificación, leed ahora la [guía de este enlace](https://realpython.com/python-encodings-guide/#python-3-all-in-on-unicode).\n",
    "\n",
    "\n",
    "## 8.2. Bibliografía adicional (ampliación de conocimientos)\n",
    "\n",
    "Esta unidad presenta una introducción a cómo interactuar con el sistema de archivos y, en general, con el sistema operativo, desde Python. Así, como introducción, presenta algunas cuestiones de manera inicial y abre la puerta a explorarlas con más detalle. A continuación se listan algunos enlaces que os servirán para seguir explorando algunos de los temas que trabajamos en la unidad, ya sean puramente de programación en Python como del sistema operativo:\n",
    "\n",
    "* **El sistema de ficheros de Linux**: en la unidad hablamos de interactuar con el sistema de archivos de Linux, pero no entramos a explicar cómo es este sistema de ficheros. Si deseáis leer una introducción a este sistema, este [*Overview*](https://tldp.org/LDP/intro-linux/html/sect_03_01.html) os puede resultar muy útil.\n",
    "\n",
    "* **Permisos sobre los ficheros en unix**: si tenéis curiosidad por saber cómo funcionan los bits de permiso de los ficheros en unix, os recomendamos leer las tres partes de la serie de artículos sobre los permisos ([1](http://www.filepermissions.com/articles/what-are-file-permissions-in-linux-and-mac), [2](http://www.filepermissions.com/articles/understanding-octal-file-permissions ) y [3](http://www.filepermissions.com/articles/sticky-bit-suid-and-sgid)).\n",
    "\n",
    "* **Apertura de archivos desde Python**: la función `open` acepta otros argumentos opcionales que no hemos presentado, y que gestionan detalles como el *buffering* de datos, la codificación, la gestión de los errores, la gestión del salto de línea, etc. El lector interesado puede consultar la [documentación oficial de la función `open`](https://docs.python.org/3/library/functions.html#open) para descubrir cómo funcionan estos argumentos y qué opciones se encuentran disponibles.\n",
    "\n",
    "* **Compresión de archivos**: existen otros formatos de compresión de datos aparte de los que hemos visto en esta unidad. El lector interesado puede leer la documentación del módulo [`gzip`](https://docs.python.org/3/library/gzip.html) para conocer las funciones que permiten trabajar con archivos gzip desde Python.\n",
    "\n",
    "* **Lectura de ficheros con pandas**: más allá de los ficheros csv, hay otros formatos que también se utilizan a menudo para intercambiar o guardar datos. Pandas dispone de varias funciones para cargar datos provenientes de los formatos de datos más populares, tales como json ([`read_json`](https://pandas.pydata.org/pandas-docs/stable/reference/api/pandas.read_json.html#pandas.read_json)) o excel ([`read_excel`](https://pandas.pydata.org/pandas-docs/stable/reference/api/pandas.read_excel.html#pandas.read_excel)).\n",
    "\n",
    "También os recomendamos revisar la documentación oficial de las funciones y clases descritas en esta unidad, que encontraréis enlazadas en cada uno de los apartados que las describen, con el fin de conocer qué parámetros permiten ajustar su funcionamiento."
   ]
  }
 ],
 "metadata": {
  "kernelspec": {
   "display_name": "Python 3",
   "language": "python",
   "name": "python3"
  },
  "language_info": {
   "codemirror_mode": {
    "name": "ipython",
    "version": 3
   },
   "file_extension": ".py",
   "mimetype": "text/x-python",
   "name": "python",
   "nbconvert_exporter": "python",
   "pygments_lexer": "ipython3",
   "version": "3.8.8"
  }
 },
 "nbformat": 4,
 "nbformat_minor": 4
}
