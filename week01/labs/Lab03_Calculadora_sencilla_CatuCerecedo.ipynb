{
  "cells": [
    {
      "cell_type": "markdown",
      "metadata": {
        "id": "MJFXpot9_MLX"
      },
      "source": [
        "***\n",
        "## Vamos con el laboratorio 3\n",
        "\n",
        "Crear una calculadora sencilla sin definir funciones - parte 1\n",
        "\n",
        "***\n",
        "### lab 3 - Crear una calculadora **sencilla** sin definir funciones - parte 1\n",
        "\n",
        "Cree una calculadora sencilla que acepte un primer número, una operación y un segundo número.\n",
        "\n",
        "Este es un resultado de ejemplo, en el que un usuario ha escrito *4*, *** y *5* en los cuadros de entrada:\n",
        "\n",
        "\n",
        "```output\n",
        "Simple calculator!\n",
        "First number? 4\n",
        "Operation? *\n",
        "Second number? 5\n",
        "product of 4 * 5 equals 20\n",
        "```\n",
        "\n",
        "El programa debe aceptar un símbolo, como el símbolo de asterisco (*), para realizar una multiplicación y generar un producto. Asegúrese de implementar lógica para estos resultados:\n",
        "\n",
        "- Suma (+)\n",
        "- Resta (-)\n",
        "- Multiplicación (*)\n",
        "- Cociente (/)\n",
        "- Exponente (//)\n",
        "- Módulo (%)\n",
        "\n",
        "Si el usuario no escribe un valor numérico, muestre este mensaje:\n",
        "\n",
        "\n",
        "```output\n",
        "Please input a number.\n",
        "```\n",
        "\n",
        "Si el usuario escribe una operación que no se reconoce, muestre este mensaje:\n",
        "\n",
        "\n",
        "```output\n",
        "Operation not recognized.\n",
        "```\n",
        "\n",
        "Tanto si tiene dificultades y necesita echar un vistazo a la solución como si finaliza el ejercicio correctamente, continúe para ver una solución a este desafío."
      ]
    },
    {
      "cell_type": "markdown",
      "metadata": {
        "id": "y3c76u0D_Qho"
      },
      "source": [
        "#### PSEUDOCODIGO\n",
        "\n",
        "Declaramos dos valores de entrada\n",
        "```\n",
        "a (input)\n",
        "b (input)\n",
        "```\n",
        "\n",
        "Declarar el tipo de operación a realizar\n",
        "```\n",
        "operacion (input)\n",
        "```\n",
        "\n",
        "Creamos una variable con una lista de operadores\n",
        "```\n",
        "operadores = [\"+\", \"-\", \"*\", \"/\", \"//\", \"%\" ]\n",
        "```\n",
        "\n",
        "Declaramos la condición de evaluación\n",
        "SI el operador no se encuentra en la lista de Operadores\n",
        "`` \n",
        "print (Operación no reconocida)\n",
        "```\n",
        "\n",
        "ELSE\n",
        "\n",
        "SI el operacion es \"+\"\n",
        "ELSE RESULTADO a+b\n",
        "\n",
        "SI EL operacion es \"-\"\n",
        "ELSE RESULTADO a-b\n",
        "\n",
        "\n",
        "... así para el resto de operadores\n",
        "\n",
        "print(resultado)\n",
        "```"
      ]
    },
    {
      "cell_type": "code",
      "execution_count": 24,
      "metadata": {
        "id": "KpL-j1GI_RWm"
      },
      "outputs": [
        {
          "name": "stdout",
          "output_type": "stream",
          "text": [
            "Resultado:  -7347.027\n"
          ]
        }
      ],
      "source": [
        "## Primer paso definir parámetros \n",
        "first_number = input(\"First number: \")\n",
        "float(first_number)\n",
        "\n",
        "operacion = input(\"Operation: \")\n",
        "\n",
        "second_number = input(\"Second number:: \")\n",
        "float(second_number)\n",
        "\n",
        "##Definer resultado\n",
        "if operacion == \"+\":\n",
        "  print(\"Resultado: \", float(first_number) + float(second_number))\n",
        "elif operacion == \"*\":\n",
        "  print(\"Resultado: \", float(first_number) * float(second_number))\n",
        "elif operacion == \"/\":\n",
        "  print(\"Resultado: \", float(first_number) / float(second_number))\n",
        "elif operacion == \"//\":\n",
        "  print(\"Resultado: \", float(first_number) // float(second_number))\n",
        "elif operacion == \"-\":\n",
        "  print(\"Resultado: \", float(first_number) - float(second_number))\n",
        "elif operacion == \"%\":\n",
        "  print(\"Resultado: \", float(first_number) % float(second_number))\n",
        "else:\n",
        "  print(\"Operation not recognized\")"
      ]
    }
  ],
  "metadata": {
    "colab": {
      "name": "Lab03 - Calculadora sencilla",
      "provenance": []
    },
    "interpreter": {
      "hash": "d7c782665118f817ef3251644aaaf5b7f4b8b84dc629f2a1924e05cab0f4ac62"
    },
    "kernelspec": {
      "display_name": "Python 3.8.8 64-bit ('base': conda)",
      "name": "python3"
    },
    "language_info": {
      "codemirror_mode": {
        "name": "ipython",
        "version": 3
      },
      "file_extension": ".py",
      "mimetype": "text/x-python",
      "name": "python",
      "nbconvert_exporter": "python",
      "pygments_lexer": "ipython3",
      "version": "3.8.8"
    }
  },
  "nbformat": 4,
  "nbformat_minor": 0
}
