{
 "cells": [
  {
   "cell_type": "markdown",
   "metadata": {},
   "source": [
    "# Robin Hood: \n",
    "Estamos en plena competición para ganar el concurso de tiro con arco en Sherwood. Con nuestro arco y flechas disparamos sobre una diana e intentamos acertar lo más cerca posible del centro. \n",
    "\n",
    "El centro de la diana viene representado por los valores (0, 0) en los ejes de coordenadas. \n",
    "\n",
    "## Objetivos: \n",
    "* estructuras de datos: listas, conjuntos, tuplas\n",
    "* operadores lógicos: if-elif-else\n",
    "* bucle: while/for\n",
    "* cálculo de mínimo (sorting opcional)\n",
    "\n",
    "## Descripción: \n",
    "En el espacio de 2 dimensiones un punto se puede definir por un par de valores que corresponden a la coordenada horizontal (x) y a la vertical (y). El espacio puede quedar dividido en 4 zonas (cuadrantes): Q1, Q2, Q3, Q4. Cuyo punto de unión único es el punto (0, 0). \n",
    "\n",
    "Si un punto se encuentra en Q1 tanto su coordenada x como la y son positivas. Te dejo un enlace a wikipedia para que te familiarices con estos cuadrantes. \n",
    "\n",
    "https://es.wikipedia.org/wiki/Coordenadas_cartesianas\n",
    "\n",
    "https://es.wikipedia.org/wiki/Distancia_euclidiana\n",
    "\n",
    "## Tareas\n",
    "1. Robin Hood es famoso por acertar a una flecha con otra flecha. ¿Lo ha conseguido? \n",
    "2. Calcula cuántos flechazos han caido en cada cuadrante. \n",
    "3. Halla el punto más cercano al centro. Calcula su distancia al centro\n",
    "4. Si la diana tiene un radio de 9, calcula el número de flechas que hay que recoger al bosque. "
   ]
  },
  {
   "cell_type": "code",
   "execution_count": 46,
   "metadata": {},
   "outputs": [
    {
     "name": "stdout",
     "output_type": "stream",
     "text": [
      "Lo ha conseguido 4 veces\n",
      " Número de flechazos por cuadrante: Q1 = 11, Q2 = 6, Q3 = 2 y Q4 = 2\n",
      "Distancia más cercana al centro: 2.0\n",
      "Recoger 20 flechas en un radio de 9 unidades\n"
     ]
    }
   ],
   "source": [
    "puntos = [(4,5), (0,2), (4,7), (1,-3), (3,-2), (4,5), \n",
    "          (3,2), (5,7), (-5,7), (2,2), (-4,5), (0,-2), \n",
    "          (-4,7), (-1,3), (-3,2), (-4,-5), (-3,2), \n",
    "          (5,7), (5,7), (2,2), (9, 9), (-8, -9)]\n",
    "\n",
    "# 1. Robin Hood es famoso por acertar a una flecha con otra flecha. ¿Lo ha conseguido? \n",
    "unique = []\n",
    "dup = []\n",
    "\n",
    "for i in puntos:\n",
    "    x = i in unique\n",
    "    if x == True:\n",
    "        dup.append(i)\n",
    "    else:\n",
    "        unique.append(i)\n",
    "\n",
    "print(f\"Lo ha conseguido {len(set(dup))} veces\")\n",
    "\n",
    "# 2. Calcula cuántos flechazos han caido en cada cuadrante. \n",
    "q1 = []\n",
    "q2 = []\n",
    "q3 = []\n",
    "q4 = []\n",
    "\n",
    "for i in puntos:\n",
    "    if i[0] >= 0 and i[1] > 0:\n",
    "        q1.append(i)\n",
    "    elif i[0] <= 0 and i[1] > 0:\n",
    "        q2.append(i)    \n",
    "    elif i[0] < 0 and i[1] <= 0:\n",
    "        q3.append(i)    \n",
    "    elif i[0] > 0 and i[1] <= 0:\n",
    "        q4.append(i)\n",
    "\n",
    "print(f\" Número de flechazos por cuadrante: Q1 = {len(q1)}, Q2 = {len(q2)}, Q3 = {len(q3)} y Q4 = {len(q4)}\")\n",
    "\n",
    "# 3. Halla el punto más cercano al centro. Calcula su distancia al centro\n",
    "# Definir una función que calcula la distancia al centro puede servir de ayuda. \n",
    "from math import sqrt\n",
    "\n",
    "def dist_uclidea_origen(x):\n",
    "    \"\"\" \n",
    "    Euclidian distance from origin (0, 0) fiven a one coordininate.\n",
    "\n",
    "    Args: . \n",
    "        x (list): coordinates x and y \n",
    "\n",
    "    Return:\n",
    "        int: a euclidian distance (units given)\n",
    "    \"\"\"\n",
    "    return sqrt(x[0]**2 + x[1]**2)\n",
    "\n",
    "distances = list(map(dist_uclidea_origen, puntos))\n",
    "\n",
    "print(f\"Distancia más cercana al centro: {min(distances)}\")\n",
    "\n",
    "# 4. Si la diana tiene un radio de 9, calcula el número de flechas que hay que recoger al bosque. \n",
    "recoger_r9 = []\n",
    "\n",
    "for i in distances:\n",
    "    if i < 9:\n",
    "        recoger_r9.append(i)\n",
    "\n",
    "print(f\"Recoger {len(recoger_r9)} flechas en un radio de 9 unidades\")\n"
   ]
  },
  {
   "cell_type": "code",
   "execution_count": null,
   "metadata": {},
   "outputs": [],
   "source": []
  }
 ],
 "metadata": {
  "interpreter": {
   "hash": "d7c782665118f817ef3251644aaaf5b7f4b8b84dc629f2a1924e05cab0f4ac62"
  },
  "kernelspec": {
   "display_name": "Python 3.8.8 64-bit ('base': conda)",
   "name": "python3"
  },
  "language_info": {
   "codemirror_mode": {
    "name": "ipython",
    "version": 3
   },
   "file_extension": ".py",
   "mimetype": "text/x-python",
   "name": "python",
   "nbconvert_exporter": "python",
   "pygments_lexer": "ipython3",
   "version": "3.8.8"
  }
 },
 "nbformat": 4,
 "nbformat_minor": 2
}
