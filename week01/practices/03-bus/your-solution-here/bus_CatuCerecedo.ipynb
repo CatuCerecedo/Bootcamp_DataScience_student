{
 "cells": [
  {
   "cell_type": "markdown",
   "metadata": {},
   "source": [
    "# Bus\n",
    "\n",
    "Este bus tiene un sistema de control de subida y bajada de pasajeros para monitorizar el número de ocupantes que lleva y así detectar cuando hay un aforo demasiado alto. \n",
    "\n",
    "En cada parada la subida y bajada de pasajeros se representa por una tupla compuesta por dos números enteros. \n",
    "```\n",
    "bus_stop = (in, out)\n",
    "```\n",
    "La sucesión de paradas se representa con una lista estas tuplas.\n",
    "```\n",
    "stops = [(in1, out1), (in2, out2), (in3, out3), (in4, out4)]\n",
    "```\n",
    "\n",
    "## Objetivos: \n",
    "* listas, tuplas\n",
    "* bucles while/for\n",
    "* mínimo, máximo, longitud\n",
    "* media, desviación estandard\n",
    "\n",
    "## Tareas\n",
    "1. Calcula el número de paradas. \n",
    "2. Asigna a una variable una lista cuyos elementos sean el número de pasajeros en cada parada (in-out), \n",
    "3. Halla el máximo de ocupación del autobús. \n",
    "4. Calcula la media de la ocupación. Y la desviación estandard. \n"
   ]
  },
  {
   "cell_type": "code",
   "execution_count": 10,
   "metadata": {},
   "outputs": [
    {
     "name": "stdout",
     "output_type": "stream",
     "text": [
      "El número de paradas es: 9\n",
      "Número de pasajeros por parada: [10, 13, 11, 10, 14, 10, 7, 5, 4]\n",
      "Máximo de ocupación en el aoutbús: 14\n",
      "La media es 9.33 y desciavión estándar es 3.39\n"
     ]
    }
   ],
   "source": [
    "stops = [(10, 0), (4, 1), (3, 5), (3, 4), (5, 1), (1, 5), (5, 8), (4, 6), (2, 3)]\n",
    "\n",
    "# 1. Calcula el número de paradas. \n",
    "print(f\"El número de paradas es: {len(stops)}\")\n",
    "\n",
    "# 2. Asigna a una variable una lista cuyos elementos sean el número de pasajeros en \n",
    "# cada parada: Cada elemento depende del elemento previo en la lista + in - out.  \n",
    "def in_out_subs(in_out):\n",
    "     return in_out[0] - in_out[1]\n",
    "\n",
    "in_out = list(map(in_out_subs, stops))\n",
    "\n",
    "passangers = []\n",
    "for i in range(0, len(in_out)):\n",
    "    if i == 0:\n",
    "        passanger = in_out[i]\n",
    "        passangers.append(passanger)\n",
    "    elif i != 0:\n",
    "        j = i - 1\n",
    "        if i != len(in_out):\n",
    "             passanger = in_out[i] + passangers[j]\n",
    "             passangers.append(passanger)\n",
    "\n",
    "print(f\"Número de pasajeros por parada: {passangers}\")\n",
    "\n",
    "# 3. Halla el máximo de ocupación del autobús. \n",
    "print(f\"Máximo de ocupación en el aoutbús: {max(passangers)}\")\n",
    "\n",
    "# 4. Calcula la media de la ocupación. Y la desviación estandard. \n",
    "from statistics import mean, stdev\n",
    "\n",
    "print(f\"La media es {round(mean(passangers), 2)} y desciavión estándar es {round(stdev(passangers), 2)}\")\n"
   ]
  }
 ],
 "metadata": {
  "interpreter": {
   "hash": "d7c782665118f817ef3251644aaaf5b7f4b8b84dc629f2a1924e05cab0f4ac62"
  },
  "kernelspec": {
   "display_name": "Python 3.8.8 64-bit ('base': conda)",
   "name": "python3"
  },
  "language_info": {
   "codemirror_mode": {
    "name": "ipython",
    "version": 3
   },
   "file_extension": ".py",
   "mimetype": "text/x-python",
   "name": "python",
   "nbconvert_exporter": "python",
   "pygments_lexer": "ipython3",
   "version": "3.8.8"
  }
 },
 "nbformat": 4,
 "nbformat_minor": 2
}
